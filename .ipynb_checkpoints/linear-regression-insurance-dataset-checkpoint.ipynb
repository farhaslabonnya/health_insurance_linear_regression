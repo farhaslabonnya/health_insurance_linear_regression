{
 "cells": [
  {
   "cell_type": "markdown",
   "metadata": {},
   "source": [
    "## Importing required packages "
   ]
  },
  {
   "cell_type": "code",
   "execution_count": 1,
   "metadata": {},
   "outputs": [],
   "source": [
    "# Importing required packages\n",
    "from sklearn.preprocessing import LabelEncoder\n",
    "import numpy as np\n",
    "import pandas as pd\n",
    "import matplotlib.pyplot as plt\n",
    "import seaborn as sns\n",
    "from sklearn.model_selection import train_test_split\n",
    "from sklearn.linear_model import LinearRegression\n",
    "from sklearn.preprocessing import PolynomialFeatures\n",
    "from scipy import stats\n",
    "import statsmodels.api as sm\n",
    "from statsmodels.formula.api import ols"
   ]
  },
  {
   "cell_type": "markdown",
   "metadata": {},
   "source": [
    "## Importing dataset and create an overview of dataset"
   ]
  },
  {
   "cell_type": "code",
   "execution_count": 2,
   "metadata": {},
   "outputs": [
    {
     "name": "stdout",
     "output_type": "stream",
     "text": [
      "The first 5 rows if data are:\n",
      "    age     sex     bmi  children smoker     region      charges\n",
      "0   19  female  27.900         0    yes  southwest  16884.92400\n",
      "1   18    male  33.770         1     no  southeast   1725.55230\n",
      "2   28    male  33.000         3     no  southeast   4449.46200\n",
      "3   33    male  22.705         0     no  northwest  21984.47061\n",
      "4   32    male  28.880         0     no  northwest   3866.85520\n",
      "\n",
      "\n",
      "The (Row,Column) is:\n",
      " (1338, 7)\n",
      "\n",
      "\n",
      "Data type of each column:\n",
      " age           int64\n",
      "sex          object\n",
      "bmi         float64\n",
      "children      int64\n",
      "smoker       object\n",
      "region       object\n",
      "charges     float64\n",
      "dtype: object\n",
      "\n",
      "\n",
      "The number of null values in each column are:\n",
      " age         0\n",
      "sex         0\n",
      "bmi         0\n",
      "children    0\n",
      "smoker      0\n",
      "region      0\n",
      "charges     0\n",
      "dtype: int64\n",
      "\n",
      "\n",
      "Numeric summary:\n",
      "                age          bmi     children       charges\n",
      "count  1338.000000  1338.000000  1338.000000   1338.000000\n",
      "mean     39.207025    30.663397     1.094918  13270.422265\n",
      "std      14.049960     6.098187     1.205493  12110.011237\n",
      "min      18.000000    15.960000     0.000000   1121.873900\n",
      "25%      27.000000    26.296250     0.000000   4740.287150\n",
      "50%      39.000000    30.400000     1.000000   9382.033000\n",
      "75%      51.000000    34.693750     2.000000  16639.912515\n",
      "max      64.000000    53.130000     5.000000  63770.428010\n"
     ]
    }
   ],
   "source": [
    "def overview():\n",
    "    '''\n",
    "    Read a comma-separated values (csv) file into DataFrame.\n",
    "    Print 5 rows of data\n",
    "    Print number of rows and columns\n",
    "    Print datatype for each column\n",
    "    Print number of NULL/NaN values for each column\n",
    "    Print summary data\n",
    "    \n",
    "    Return:\n",
    "    data, rtype: DataFrame\n",
    "    '''\n",
    "    data = pd.read_csv('../input/insurance/insurance.csv')\n",
    "    print(\"The first 5 rows if data are:\\n\", data.head())\n",
    "    print(\"\\n\")\n",
    "    print(\"The (Row,Column) is:\\n\", data.shape)\n",
    "    print(\"\\n\")\n",
    "    print(\"Data type of each column:\\n\", data.dtypes)\n",
    "    print(\"\\n\")\n",
    "    print(\"The number of null values in each column are:\\n\", data.isnull().sum())\n",
    "    print(\"\\n\")\n",
    "    print(\"Numeric summary:\\n\", data.describe())\n",
    "    return data\n",
    "\n",
    "df = overview()"
   ]
  },
  {
   "cell_type": "markdown",
   "metadata": {},
   "source": [
    "## Assigning numerical and categorical variables "
   ]
  },
  {
   "cell_type": "code",
   "execution_count": 3,
   "metadata": {},
   "outputs": [],
   "source": [
    "# Sorting out numerical and categorical variables \n",
    "def categorical_variable(df):\n",
    "    return list(df.select_dtypes(include = ['category', 'object']))\n",
    "\n",
    "def numerical_variable(df):\n",
    "    return list(df.select_dtypes(exclude = ['category', 'object']))\n"
   ]
  },
  {
   "cell_type": "markdown",
   "metadata": {},
   "source": [
    "## Performing EDA "
   ]
  },
  {
   "cell_type": "code",
   "execution_count": 4,
   "metadata": {},
   "outputs": [
    {
     "data": {
      "image/png": "[encoded data removed]",
      "text/plain": [
       "<Figure size 864x360 with 2 Axes>"
      ]
     },
     "metadata": {
      "needs_background": "light"
     },
     "output_type": "display_data"
    }
   ],
   "source": [
    "g = sns.catplot(x=\"smoker\", y=\"charges\",col_wrap=3, col=\"sex\",data= df, kind=\"box\",height=5, aspect=0.8);"
   ]
  },
  {
   "cell_type": "markdown",
   "metadata": {},
   "source": [
    "We can see that smokers have higher charges due to the possible health issues gathered from smoking. Let's see the rate of charges among different age."
   ]
  },
  {
   "cell_type": "code",
   "execution_count": 5,
   "metadata": {},
   "outputs": [
    {
     "data": {
      "image/png": "[encoded data removed]",
      "text/plain": [
       "<Figure size 864x360 with 2 Axes>"
      ]
     },
     "metadata": {
      "needs_background": "light"
     },
     "output_type": "display_data"
    }
   ],
   "source": [
    "g = sns.catplot(x=\"smoker\", y=\"age\",col_wrap=3, col=\"sex\",data= df, kind=\"box\",height=5, aspect=0.8);"
   ]
  },
  {
   "cell_type": "markdown",
   "metadata": {},
   "source": [
    "It seems that there are more male smokers as compared to female. Could that be the reason why the charges for male smokers are higher?"
   ]
  },
  {
   "cell_type": "code",
   "execution_count": 6,
   "metadata": {},
   "outputs": [],
   "source": [
    "# Changing categorical values to numeric\n",
    "df2 = df.copy()\n",
    "#sex\n",
    "le = LabelEncoder()\n",
    "le.fit(df2.sex.drop_duplicates()) \n",
    "df2.sex = le.transform(df2.sex)\n",
    "# smoker or not\n",
    "le.fit(df2.smoker.drop_duplicates()) \n",
    "df2.smoker = le.transform(df2.smoker)\n",
    "#region\n",
    "le.fit(df2.region.drop_duplicates()) \n",
    "df2.region = le.transform(df2.region)"
   ]
  },
  {
   "cell_type": "code",
   "execution_count": 7,
   "metadata": {},
   "outputs": [
    {
     "name": "stdout",
     "output_type": "stream",
     "text": [
      "age         0.299008\n",
      "sex         0.057292\n",
      "bmi         0.198341\n",
      "children    0.067998\n",
      "smoker      0.787251\n",
      "region     -0.006208\n",
      "charges     1.000000\n",
      "Name: charges, dtype: float64\n",
      "P-value for 1-way ANOVA test between sex and charges is:  0.03613272100596256\n",
      "P-value for 1-way ANOVA test between smoker and charges is:  8.271435842181086e-283\n",
      "P-value for 1-way ANOVA test between region and charges is:  0.8205178364652657\n"
     ]
    }
   ],
   "source": [
    "print(df2.corr()['charges'])\n",
    "\n",
    "lm = ols('sex ~ charges', data = df2).fit()\n",
    "table = sm.stats.anova_lm(lm)\n",
    "print(\"P-value for 1-way ANOVA test between sex and charges is: \",table.loc['charges','PR(>F)'])\n",
    "lm1 = ols('smoker ~ charges', data = df2).fit()\n",
    "table1 = sm.stats.anova_lm(lm1)\n",
    "print(\"P-value for 1-way ANOVA test between smoker and charges is: \",table1.loc['charges','PR(>F)'])\n",
    "lm2 = ols('region ~ charges', data = df2).fit()\n",
    "table2 = sm.stats.anova_lm(lm2)\n",
    "print(\"P-value for 1-way ANOVA test between region and charges is: \",table2.loc['charges','PR(>F)'])"
   ]
  },
  {
   "cell_type": "markdown",
   "metadata": {},
   "source": [
    "- Here, you can see me perform a Pearson correlation test and a 1-way ANOVA test. 1-way AVOVA test is the right way to test correlation between a categorical and numerical data.\n",
    "- It seems that the smoker variable is highly correlated to charges. Hence, we will not drop this feature at the later step.\n",
    "- It seems that region has a P-value of > 0.05, hence, we accept the null hypothesis that they are independent."
   ]
  },
  {
   "cell_type": "markdown",
   "metadata": {},
   "source": [
    "## Performing a linear regression\n",
    "- This time, we include all features in X"
   ]
  },
  {
   "cell_type": "code",
   "execution_count": 8,
   "metadata": {
    "_cell_guid": "7f518293-8169-406d-aaed-7af537b5d0fd",
    "_uuid": "4d3df6be-b8f3-4ea4-84c9-d2348b2a40dd"
   },
   "outputs": [
    {
     "name": "stdout",
     "output_type": "stream",
     "text": [
      "0.7833463107364539\n"
     ]
    }
   ],
   "source": [
    "# Creating training and testing dataset\n",
    "y = df2['charges']\n",
    "X = df2.drop(['charges'], axis = 1)\n",
    "\n",
    "X_train, X_test, y_train, y_test = train_test_split(X, y, test_size=0.20, random_state = 42)\n",
    "\n",
    "lr = LinearRegression().fit(X_train,y_train)\n",
    "y_train_pred = lr.predict(X_train)\n",
    "y_test_pred = lr.predict(X_test)\n",
    "\n",
    "print(lr.score(X_test,y_test))"
   ]
  },
  {
   "cell_type": "markdown",
   "metadata": {},
   "source": [
    "78.3% accuracy! Not that bad for the first model! Let's see if we can improve it by removing non-correlated features."
   ]
  },
  {
   "cell_type": "code",
   "execution_count": 9,
   "metadata": {},
   "outputs": [
    {
     "name": "stdout",
     "output_type": "stream",
     "text": [
      "0.7811302113434095\n"
     ]
    }
   ],
   "source": [
    "# Creating training and testing dataset\n",
    "y = df2['charges']\n",
    "X = df2.drop(['charges', 'region'], axis = 1)\n",
    "\n",
    "X_train, X_test, y_train, y_test = train_test_split(X, y, test_size=0.20, random_state = 42)\n",
    "\n",
    "lr = LinearRegression().fit(X_train,y_train)\n",
    "y_train_pred = lr.predict(X_train)\n",
    "y_test_pred = lr.predict(X_test)\n",
    "\n",
    "print(lr.score(X_test,y_test))"
   ]
  },
  {
   "cell_type": "code",
   "execution_count": 10,
   "metadata": {},
   "outputs": [
    {
     "name": "stdout",
     "output_type": "stream",
     "text": [
      "0.866944155665878\n"
     ]
    }
   ],
   "source": [
    "# Creating training and testing dataset\n",
    "y = df2['charges']\n",
    "X = df2.drop(['charges', 'region'], axis = 1)\n",
    "\n",
    "poly_reg  = PolynomialFeatures(degree=2)\n",
    "X_poly = poly_reg.fit_transform(X)\n",
    "\n",
    "X_train,X_test,y_train,y_test = train_test_split(X_poly,y,test_size=0.20, random_state = 42)\n",
    "\n",
    "lin_reg = LinearRegression()\n",
    "lin_reg  = lin_reg.fit(X_train,y_train)\n",
    "\n",
    "print(lin_reg.score(X_test,y_test))"
   ]
  }
 ],
 "metadata": {
  "kernelspec": {
   "display_name": "Python 3",
   "language": "python",
   "name": "python3"
  },
  "language_info": {
   "codemirror_mode": {
    "name": "ipython",
    "version": 3
   },
   "file_extension": ".py",
   "mimetype": "text/x-python",
   "name": "python",
   "nbconvert_exporter": "python",
   "pygments_lexer": "ipython3",
   "version": "3.8.8"
  }
 },
 "nbformat": 4,
 "nbformat_minor": 4
}
